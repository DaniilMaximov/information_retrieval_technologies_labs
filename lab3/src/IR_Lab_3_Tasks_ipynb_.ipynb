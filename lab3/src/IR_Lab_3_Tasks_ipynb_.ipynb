{
 "nbformat": 4,
 "nbformat_minor": 0,
 "metadata": {
  "kernelspec": {
   "display_name": "Python 3",
   "language": "python",
   "name": "python3"
  },
  "language_info": {
   "codemirror_mode": {
    "name": "ipython",
    "version": 3
   },
   "file_extension": ".py",
   "mimetype": "text/x-python",
   "name": "python",
   "nbconvert_exporter": "python",
   "pygments_lexer": "ipython3",
   "version": "3.5.2"
  },
  "colab": {
   "provenance": [],
   "toc_visible": true
  }
 },
 "cells": [
  {
   "cell_type": "markdown",
   "metadata": {
    "id": "_iemHn3-OQyF"
   },
   "source": [
    "Подберём к вопросу похожий на него вопрос."
   ]
  },
  {
   "cell_type": "code",
   "metadata": {
    "id": "Mk8ccLdZMR6V",
    "colab": {
     "base_uri": "https://localhost:8080/"
    },
    "outputId": "0860a9d8-1907-4525-8ffc-0e7c521b876a",
    "ExecuteTime": {
     "end_time": "2024-11-26T14:15:25.551854Z",
     "start_time": "2024-11-26T14:15:25.422638Z"
    }
   },
   "source": [
    "!git clone https://github.com/vladislavneon/RuBQ.git"
   ],
   "outputs": [
    {
     "name": "stdout",
     "output_type": "stream",
     "text": [
      "fatal: destination path 'RuBQ' already exists and is not an empty directory.\r\n"
     ]
    }
   ],
   "execution_count": 2
  },
  {
   "cell_type": "code",
   "metadata": {
    "id": "nJDjpr20MbK8",
    "ExecuteTime": {
     "end_time": "2024-11-26T14:16:51.608950Z",
     "start_time": "2024-11-26T14:16:51.566251Z"
    }
   },
   "source": [
    "import json\n",
    "\n",
    "filepath = \"./RuBQ/RuBQ_2.0/RuBQ_2.0_test.json\"\n",
    "with open(filepath, mode=\"r\", encoding=\"utf-8\") as input:\n",
    "  lines = input.readlines()\n",
    "res_json = json.loads(''.join(lines))"
   ],
   "outputs": [],
   "execution_count": 5
  },
  {
   "cell_type": "code",
   "metadata": {
    "id": "vieAx7wPMrQE",
    "ExecuteTime": {
     "end_time": "2024-11-26T14:17:02.631630Z",
     "start_time": "2024-11-26T14:17:02.628563Z"
    }
   },
   "source": [
    "dataset_temp = [x[\"question_text\"] for x in res_json]"
   ],
   "outputs": [],
   "execution_count": 6
  },
  {
   "cell_type": "code",
   "metadata": {
    "colab": {
     "base_uri": "https://localhost:8080/"
    },
    "id": "H1EbCd-8MvlQ",
    "outputId": "cd1192e6-0176-4d1a-bced-6369bc9d8513",
    "ExecuteTime": {
     "end_time": "2024-11-26T14:17:04.902086Z",
     "start_time": "2024-11-26T14:17:04.897685Z"
    }
   },
   "source": [
    "dataset_temp[:20]"
   ],
   "outputs": [
    {
     "data": {
      "text/plain": [
       "['Что может вызвать цунами?',\n",
       " 'Кто написал роман «Хижина дяди Тома»?',\n",
       " 'Кто автор пьесы «Ромео и Джульетта»?',\n",
       " 'Как называется столица Румынии?',\n",
       " 'На каком инструменте играл Джимми Хендрикс?',\n",
       " 'Какой стране принадлежит остров Таити?',\n",
       " 'Кто создал Зимний дворец в Санкт-Петербурге?',\n",
       " 'Кто режиссер фильма \"Бриллиантовая рука\"?',\n",
       " 'Какой стране принадлежат Канарские острова?',\n",
       " 'Какой географический объект называется Лимпопо?',\n",
       " 'Какое современное государство занимает территорию, на которой находился древний ассирийский город Ниневия?',\n",
       " 'По какой шкале измеряют силу землетрясений?',\n",
       " 'В какой стране впервые появилась игра в гольф?',\n",
       " 'Каким видом спорта увлекался президент РФ В.В.Путин?',\n",
       " 'Как звали отца Северуса Снейпа?',\n",
       " 'Как звали сына Драко?',\n",
       " 'Как звали маму Северуса Снейпа?',\n",
       " 'Как звали создателя факультета Когтевран (Рейвенкло)?',\n",
       " 'Как звали дракончика Хагрида?',\n",
       " \"Кто автор исторического романа 'Княжна Тараканова'?\"]"
      ]
     },
     "execution_count": 7,
     "metadata": {},
     "output_type": "execute_result"
    }
   ],
   "execution_count": 7
  },
  {
   "cell_type": "code",
   "metadata": {
    "colab": {
     "base_uri": "https://localhost:8080/"
    },
    "id": "3Lya73nVNFnO",
    "outputId": "2625964c-8cbb-4773-82d9-68e366a81518",
    "ExecuteTime": {
     "end_time": "2024-11-26T14:17:44.234354Z",
     "start_time": "2024-11-26T14:17:44.231717Z"
    }
   },
   "source": [
    "len(dataset_temp)"
   ],
   "outputs": [
    {
     "data": {
      "text/plain": [
       "2330"
      ]
     },
     "execution_count": 10,
     "metadata": {},
     "output_type": "execute_result"
    }
   ],
   "execution_count": 10
  },
  {
   "cell_type": "markdown",
   "metadata": {
    "id": "bp_duxGROZeL"
   },
   "source": [
    "Тут всего 2330 вопросов и нет никакой информации о похожести. Для решения задачи нам понадобиться ещё один датасет."
   ]
  },
  {
   "cell_type": "markdown",
   "metadata": {
    "id": "rzGi77T7NTJQ"
   },
   "source": [
    "Хороший способ скачивать с Google Drive"
   ]
  },
  {
   "cell_type": "code",
   "source": [
    "! pip install --upgrade --no-cache-dir gdown"
   ],
   "metadata": {
    "colab": {
     "base_uri": "https://localhost:8080/"
    },
    "id": "JcnxPIjpCnsi",
    "outputId": "fc53d359-bfd2-4c00-ece5-f800c0fa33fa",
    "ExecuteTime": {
     "end_time": "2024-11-26T14:17:47.266906Z",
     "start_time": "2024-11-26T14:17:44.318953Z"
    }
   },
   "outputs": [
    {
     "name": "stdout",
     "output_type": "stream",
     "text": [
      "Collecting gdown\r\n",
      "  Obtaining dependency information for gdown from https://files.pythonhosted.org/packages/54/70/e07c381e6488a77094f04c85c9caf1c8008cdc30778f7019bc52e5285ef0/gdown-5.2.0-py3-none-any.whl.metadata\r\n",
      "  Downloading gdown-5.2.0-py3-none-any.whl.metadata (5.8 kB)\r\n",
      "Requirement already satisfied: beautifulsoup4 in /Users/dm/PycharmProjects/information_retrieval_technologies_itmo_2024/.venv/lib/python3.12/site-packages (from gdown) (4.12.3)\r\n",
      "Collecting filelock (from gdown)\r\n",
      "  Obtaining dependency information for filelock from https://files.pythonhosted.org/packages/b9/f8/feced7779d755758a52d1f6635d990b8d98dc0a29fa568bbe0625f18fdf3/filelock-3.16.1-py3-none-any.whl.metadata\r\n",
      "  Downloading filelock-3.16.1-py3-none-any.whl.metadata (2.9 kB)\r\n",
      "Requirement already satisfied: requests[socks] in /Users/dm/PycharmProjects/information_retrieval_technologies_itmo_2024/.venv/lib/python3.12/site-packages (from gdown) (2.32.3)\r\n",
      "Requirement already satisfied: tqdm in /Users/dm/PycharmProjects/information_retrieval_technologies_itmo_2024/.venv/lib/python3.12/site-packages (from gdown) (4.67.0)\r\n",
      "Requirement already satisfied: soupsieve>1.2 in /Users/dm/PycharmProjects/information_retrieval_technologies_itmo_2024/.venv/lib/python3.12/site-packages (from beautifulsoup4->gdown) (2.6)\r\n",
      "Requirement already satisfied: charset-normalizer<4,>=2 in /Users/dm/PycharmProjects/information_retrieval_technologies_itmo_2024/.venv/lib/python3.12/site-packages (from requests[socks]->gdown) (3.4.0)\r\n",
      "Requirement already satisfied: idna<4,>=2.5 in /Users/dm/PycharmProjects/information_retrieval_technologies_itmo_2024/.venv/lib/python3.12/site-packages (from requests[socks]->gdown) (3.10)\r\n",
      "Requirement already satisfied: urllib3<3,>=1.21.1 in /Users/dm/PycharmProjects/information_retrieval_technologies_itmo_2024/.venv/lib/python3.12/site-packages (from requests[socks]->gdown) (2.2.3)\r\n",
      "Requirement already satisfied: certifi>=2017.4.17 in /Users/dm/PycharmProjects/information_retrieval_technologies_itmo_2024/.venv/lib/python3.12/site-packages (from requests[socks]->gdown) (2024.8.30)\r\n",
      "Collecting PySocks!=1.5.7,>=1.5.6 (from requests[socks]->gdown)\r\n",
      "  Obtaining dependency information for PySocks!=1.5.7,>=1.5.6 from https://files.pythonhosted.org/packages/8d/59/b4572118e098ac8e46e399a1dd0f2d85403ce8bbaad9ec79373ed6badaf9/PySocks-1.7.1-py3-none-any.whl.metadata\r\n",
      "  Downloading PySocks-1.7.1-py3-none-any.whl.metadata (13 kB)\r\n",
      "Downloading gdown-5.2.0-py3-none-any.whl (18 kB)\r\n",
      "Downloading filelock-3.16.1-py3-none-any.whl (16 kB)\r\n",
      "Downloading PySocks-1.7.1-py3-none-any.whl (16 kB)\r\n",
      "Installing collected packages: PySocks, filelock, gdown\r\n",
      "Successfully installed PySocks-1.7.1 filelock-3.16.1 gdown-5.2.0\r\n",
      "\r\n",
      "\u001B[1m[\u001B[0m\u001B[34;49mnotice\u001B[0m\u001B[1;39;49m]\u001B[0m\u001B[39;49m A new release of pip is available: \u001B[0m\u001B[31;49m23.2.1\u001B[0m\u001B[39;49m -> \u001B[0m\u001B[32;49m24.3.1\u001B[0m\r\n",
      "\u001B[1m[\u001B[0m\u001B[34;49mnotice\u001B[0m\u001B[1;39;49m]\u001B[0m\u001B[39;49m To update, run: \u001B[0m\u001B[32;49mpip install --upgrade pip\u001B[0m\r\n"
     ]
    }
   ],
   "execution_count": 11
  },
  {
   "cell_type": "code",
   "metadata": {
    "colab": {
     "base_uri": "https://localhost:8080/"
    },
    "id": "oQJZSSIRNOQm",
    "outputId": "09fc1732-5406-4125-ec09-7854993fe2c4",
    "ExecuteTime": {
     "end_time": "2024-11-26T14:17:56.640876Z",
     "start_time": "2024-11-26T14:17:47.272645Z"
    }
   },
   "source": [
    "!gdown --id 11Q2g2aA-n7fYK95XEB3d6m0CWKSt6rob"
   ],
   "outputs": [
    {
     "name": "stdout",
     "output_type": "stream",
     "text": [
      "/Users/dm/PycharmProjects/information_retrieval_technologies_itmo_2024/.venv/lib/python3.12/site-packages/gdown/__main__.py:140: FutureWarning: Option `--id` was deprecated in version 4.3.1 and will be removed in 5.0. You don't need to pass it anymore to use a file ID.\r\n",
      "  warnings.warn(\r\n",
      "Downloading...\r\n",
      "From (original): https://drive.google.com/uc?id=11Q2g2aA-n7fYK95XEB3d6m0CWKSt6rob\r\n",
      "From (redirected): https://drive.google.com/uc?id=11Q2g2aA-n7fYK95XEB3d6m0CWKSt6rob&confirm=t&uuid=b5381e83-3e95-469b-a8ce-9928c878bee2\r\n",
      "To: /Users/dm/PycharmProjects/information_retrieval_technologies_itmo_2024/lab3/src/quora_question_pairs_rus.csv.zip\r\n",
      "100%|██████████████████████████████████████| 26.7M/26.7M [00:03<00:00, 6.71MB/s]\r\n"
     ]
    }
   ],
   "execution_count": 12
  },
  {
   "cell_type": "code",
   "metadata": {
    "colab": {
     "base_uri": "https://localhost:8080/"
    },
    "id": "ZCBMsWt4OrWF",
    "outputId": "a4593efb-d0f1-45ac-f18e-c9d86ede4c94",
    "ExecuteTime": {
     "end_time": "2024-11-26T14:17:57.237800Z",
     "start_time": "2024-11-26T14:17:56.649697Z"
    }
   },
   "source": [
    "!unzip quora_question_pairs_rus.csv.zip"
   ],
   "outputs": [
    {
     "name": "stdout",
     "output_type": "stream",
     "text": [
      "Archive:  quora_question_pairs_rus.csv.zip\r\n",
      "  inflating: quora_question_pairs_rus.csv  \r\n"
     ]
    }
   ],
   "execution_count": 13
  },
  {
   "cell_type": "markdown",
   "metadata": {
    "id": "2bE2MIlLPDN3"
   },
   "source": [
    "Это большой датасет вопросов quora, который был автоматически переведён."
   ]
  },
  {
   "cell_type": "code",
   "metadata": {
    "id": "1T_kYZbWOlaH",
    "ExecuteTime": {
     "end_time": "2024-11-26T14:17:59.502313Z",
     "start_time": "2024-11-26T14:17:57.244062Z"
    }
   },
   "source": [
    "import pandas as pd\n",
    "quora_df = pd.read_csv('quora_question_pairs_rus.csv', usecols=lambda x: 'Unnamed' not in x)"
   ],
   "outputs": [],
   "execution_count": 14
  },
  {
   "cell_type": "code",
   "metadata": {
    "colab": {
     "base_uri": "https://localhost:8080/"
    },
    "id": "YcB19DxIPLnd",
    "outputId": "e5215fcc-1de6-4174-e6d6-2b1d3e4b0046",
    "ExecuteTime": {
     "end_time": "2024-11-26T14:17:59.510738Z",
     "start_time": "2024-11-26T14:17:59.508582Z"
    }
   },
   "source": [
    "quora_df.shape"
   ],
   "outputs": [
    {
     "data": {
      "text/plain": [
       "(404288, 3)"
      ]
     },
     "execution_count": 15,
     "metadata": {},
     "output_type": "execute_result"
    }
   ],
   "execution_count": 15
  },
  {
   "cell_type": "code",
   "metadata": {
    "colab": {
     "base_uri": "https://localhost:8080/",
     "height": 669
    },
    "id": "rTCwhvLtOwcB",
    "outputId": "641463b0-ed4b-4e4e-e83d-8a3ce515f857",
    "ExecuteTime": {
     "end_time": "2024-11-26T14:17:59.534523Z",
     "start_time": "2024-11-26T14:17:59.526674Z"
    }
   },
   "source": [
    "quora_df.sample(20)"
   ],
   "outputs": [
    {
     "data": {
      "text/plain": [
       "                                                question1  \\\n",
       "370902        какие преимущества и недостатки носить юбку   \n",
       "241232  что лучший университет университета в области ...   \n",
       "319234  было бы ли это формой жестокого обращения с де...   \n",
       "115469         что помогает исцелить ваше разбитое сердце   \n",
       "21087                 что могут узнать индейцы из японцев   \n",
       "11002   какой номер технической поддержки для мобильны...   \n",
       "111877  как я могу доказать своей девушке, что я не об...   \n",
       "161795  будущее рождается из прошлого, как вы можете о...   \n",
       "16394   как бы вы сравнили законы эвтаназии в Швейцари...   \n",
       "135006  как часто сотрудники должны получать оценку эф...   \n",
       "154886                         какие ребята любят девушек   \n",
       "172260  индийское правительство демонизировало 500 и 1...   \n",
       "99615   как я могу блокировать сайты на моем телефоне ...   \n",
       "59965   какова цена и разница между ubergo uberx и ube...   \n",
       "163699  мы можем перевести деньги из sbi cdm на другой...   \n",
       "10359   как я могу соблазнить прямую девушку, если я л...   \n",
       "288429           темная материя и темная энергия: энергия   \n",
       "89322                             делает сок лайма плохим   \n",
       "149550                                    что такое кусты   \n",
       "306419  как я взломаю армию каракули 2 мини-милиции, ч...   \n",
       "\n",
       "                                                question2  is_duplicate  \n",
       "370902    это макси-юбка, считающаяся официальной одеждой             0  \n",
       "241232  Каковы лучшие университеты Великобритании по э...             1  \n",
       "319234  Каково это - проводить много времени в одиноче...             0  \n",
       "115469             любые способы исцелить разбитое сердце             1  \n",
       "21087                 что могут узнать индейцы из японцев             1  \n",
       "11002   который является лучшим номером поддержки хост...             1  \n",
       "111877    сколько общих расходов вместе с комиссией за ms             0  \n",
       "161795  что является правильным: я родился или родился...             0  \n",
       "16394   как бы вы сравнили законы эвтаназии Соединенны...             0  \n",
       "135006  как часто сотрудники Google получают обзоры пр...             0  \n",
       "154886                  какой тип девушек нравится парням             0  \n",
       "172260  запрет на 500 и 1000 рупийских нот оценивается...             1  \n",
       "99615       как заблокировать youtube на Android-телефоне             0  \n",
       "59965   который имеет самую высокую разницу цен между ...             0  \n",
       "163699  это sbi лучший вариант для конвертирования inr...             0  \n",
       "10359   Я лесбиянка, которая любит прямую девушку, что...             0  \n",
       "288429                           Что такое темная материя             0  \n",
       "89322                     как сок лайма становится плохим             1  \n",
       "149550                  что такое втулка в кустовой муфте             0  \n",
       "306419  есть ли какие-либо проблемы, зарегистрированны...             0  "
      ],
      "text/html": [
       "<div>\n",
       "<style scoped>\n",
       "    .dataframe tbody tr th:only-of-type {\n",
       "        vertical-align: middle;\n",
       "    }\n",
       "\n",
       "    .dataframe tbody tr th {\n",
       "        vertical-align: top;\n",
       "    }\n",
       "\n",
       "    .dataframe thead th {\n",
       "        text-align: right;\n",
       "    }\n",
       "</style>\n",
       "<table border=\"1\" class=\"dataframe\">\n",
       "  <thead>\n",
       "    <tr style=\"text-align: right;\">\n",
       "      <th></th>\n",
       "      <th>question1</th>\n",
       "      <th>question2</th>\n",
       "      <th>is_duplicate</th>\n",
       "    </tr>\n",
       "  </thead>\n",
       "  <tbody>\n",
       "    <tr>\n",
       "      <th>370902</th>\n",
       "      <td>какие преимущества и недостатки носить юбку</td>\n",
       "      <td>это макси-юбка, считающаяся официальной одеждой</td>\n",
       "      <td>0</td>\n",
       "    </tr>\n",
       "    <tr>\n",
       "      <th>241232</th>\n",
       "      <td>что лучший университет университета в области ...</td>\n",
       "      <td>Каковы лучшие университеты Великобритании по э...</td>\n",
       "      <td>1</td>\n",
       "    </tr>\n",
       "    <tr>\n",
       "      <th>319234</th>\n",
       "      <td>было бы ли это формой жестокого обращения с де...</td>\n",
       "      <td>Каково это - проводить много времени в одиноче...</td>\n",
       "      <td>0</td>\n",
       "    </tr>\n",
       "    <tr>\n",
       "      <th>115469</th>\n",
       "      <td>что помогает исцелить ваше разбитое сердце</td>\n",
       "      <td>любые способы исцелить разбитое сердце</td>\n",
       "      <td>1</td>\n",
       "    </tr>\n",
       "    <tr>\n",
       "      <th>21087</th>\n",
       "      <td>что могут узнать индейцы из японцев</td>\n",
       "      <td>что могут узнать индейцы из японцев</td>\n",
       "      <td>1</td>\n",
       "    </tr>\n",
       "    <tr>\n",
       "      <th>11002</th>\n",
       "      <td>какой номер технической поддержки для мобильны...</td>\n",
       "      <td>который является лучшим номером поддержки хост...</td>\n",
       "      <td>1</td>\n",
       "    </tr>\n",
       "    <tr>\n",
       "      <th>111877</th>\n",
       "      <td>как я могу доказать своей девушке, что я не об...</td>\n",
       "      <td>сколько общих расходов вместе с комиссией за ms</td>\n",
       "      <td>0</td>\n",
       "    </tr>\n",
       "    <tr>\n",
       "      <th>161795</th>\n",
       "      <td>будущее рождается из прошлого, как вы можете о...</td>\n",
       "      <td>что является правильным: я родился или родился...</td>\n",
       "      <td>0</td>\n",
       "    </tr>\n",
       "    <tr>\n",
       "      <th>16394</th>\n",
       "      <td>как бы вы сравнили законы эвтаназии в Швейцари...</td>\n",
       "      <td>как бы вы сравнили законы эвтаназии Соединенны...</td>\n",
       "      <td>0</td>\n",
       "    </tr>\n",
       "    <tr>\n",
       "      <th>135006</th>\n",
       "      <td>как часто сотрудники должны получать оценку эф...</td>\n",
       "      <td>как часто сотрудники Google получают обзоры пр...</td>\n",
       "      <td>0</td>\n",
       "    </tr>\n",
       "    <tr>\n",
       "      <th>154886</th>\n",
       "      <td>какие ребята любят девушек</td>\n",
       "      <td>какой тип девушек нравится парням</td>\n",
       "      <td>0</td>\n",
       "    </tr>\n",
       "    <tr>\n",
       "      <th>172260</th>\n",
       "      <td>индийское правительство демонизировало 500 и 1...</td>\n",
       "      <td>запрет на 500 и 1000 рупийских нот оценивается...</td>\n",
       "      <td>1</td>\n",
       "    </tr>\n",
       "    <tr>\n",
       "      <th>99615</th>\n",
       "      <td>как я могу блокировать сайты на моем телефоне ...</td>\n",
       "      <td>как заблокировать youtube на Android-телефоне</td>\n",
       "      <td>0</td>\n",
       "    </tr>\n",
       "    <tr>\n",
       "      <th>59965</th>\n",
       "      <td>какова цена и разница между ubergo uberx и ube...</td>\n",
       "      <td>который имеет самую высокую разницу цен между ...</td>\n",
       "      <td>0</td>\n",
       "    </tr>\n",
       "    <tr>\n",
       "      <th>163699</th>\n",
       "      <td>мы можем перевести деньги из sbi cdm на другой...</td>\n",
       "      <td>это sbi лучший вариант для конвертирования inr...</td>\n",
       "      <td>0</td>\n",
       "    </tr>\n",
       "    <tr>\n",
       "      <th>10359</th>\n",
       "      <td>как я могу соблазнить прямую девушку, если я л...</td>\n",
       "      <td>Я лесбиянка, которая любит прямую девушку, что...</td>\n",
       "      <td>0</td>\n",
       "    </tr>\n",
       "    <tr>\n",
       "      <th>288429</th>\n",
       "      <td>темная материя и темная энергия: энергия</td>\n",
       "      <td>Что такое темная материя</td>\n",
       "      <td>0</td>\n",
       "    </tr>\n",
       "    <tr>\n",
       "      <th>89322</th>\n",
       "      <td>делает сок лайма плохим</td>\n",
       "      <td>как сок лайма становится плохим</td>\n",
       "      <td>1</td>\n",
       "    </tr>\n",
       "    <tr>\n",
       "      <th>149550</th>\n",
       "      <td>что такое кусты</td>\n",
       "      <td>что такое втулка в кустовой муфте</td>\n",
       "      <td>0</td>\n",
       "    </tr>\n",
       "    <tr>\n",
       "      <th>306419</th>\n",
       "      <td>как я взломаю армию каракули 2 мини-милиции, ч...</td>\n",
       "      <td>есть ли какие-либо проблемы, зарегистрированны...</td>\n",
       "      <td>0</td>\n",
       "    </tr>\n",
       "  </tbody>\n",
       "</table>\n",
       "</div>"
      ]
     },
     "execution_count": 16,
     "metadata": {},
     "output_type": "execute_result"
    }
   ],
   "execution_count": 16
  },
  {
   "cell_type": "code",
   "metadata": {
    "id": "yVcHCKnVPWU4",
    "ExecuteTime": {
     "end_time": "2024-11-26T14:17:59.562446Z",
     "start_time": "2024-11-26T14:17:59.554476Z"
    }
   },
   "source": [
    "dataset_temp.extend(quora_df[\"question1\"].values)"
   ],
   "outputs": [],
   "execution_count": 17
  },
  {
   "cell_type": "code",
   "metadata": {
    "id": "HWidzPBvPb_C",
    "ExecuteTime": {
     "end_time": "2024-11-26T14:17:59.589246Z",
     "start_time": "2024-11-26T14:17:59.580738Z"
    }
   },
   "source": [
    "dataset_temp.extend(quora_df[\"question2\"].values)"
   ],
   "outputs": [],
   "execution_count": 18
  },
  {
   "cell_type": "code",
   "metadata": {
    "colab": {
     "base_uri": "https://localhost:8080/"
    },
    "id": "W8Zfp-U0Pfry",
    "outputId": "e9fa3a99-ca9f-459d-de1f-87b88d3daaa2",
    "ExecuteTime": {
     "end_time": "2024-11-26T14:17:59.604100Z",
     "start_time": "2024-11-26T14:17:59.602242Z"
    }
   },
   "source": [
    "len(dataset_temp)"
   ],
   "outputs": [
    {
     "data": {
      "text/plain": [
       "810906"
      ]
     },
     "execution_count": 19,
     "metadata": {},
     "output_type": "execute_result"
    }
   ],
   "execution_count": 19
  },
  {
   "cell_type": "markdown",
   "metadata": {
    "id": "5WvzChdjP2lC"
   },
   "source": [
    "Скачаем эмбеддинги от Natasha (https://natasha.github.io/navec/)"
   ]
  },
  {
   "cell_type": "code",
   "metadata": {
    "colab": {
     "base_uri": "https://localhost:8080/"
    },
    "id": "AcreeCQ6PqXI",
    "outputId": "d4fecad0-b7af-4f14-ea4b-5eb56700df50",
    "ExecuteTime": {
     "end_time": "2024-11-26T14:37:51.734134Z",
     "start_time": "2024-11-26T14:37:41.222640Z"
    }
   },
   "source": [
    "!pip install navec\n",
    "\n",
    "!wget https://storage.yandexcloud.net/natasha-navec/packs/navec_hudlit_v1_12B_500K_300d_100q.tar"
   ],
   "outputs": [
    {
     "name": "stdout",
     "output_type": "stream",
     "text": [
      "Requirement already satisfied: navec in /Users/dm/PycharmProjects/information_retrieval_technologies_itmo_2024/.venv/lib/python3.12/site-packages (0.10.0)\r\n",
      "Requirement already satisfied: numpy in /Users/dm/PycharmProjects/information_retrieval_technologies_itmo_2024/.venv/lib/python3.12/site-packages (from navec) (1.26.4)\r\n",
      "\r\n",
      "\u001B[1m[\u001B[0m\u001B[34;49mnotice\u001B[0m\u001B[1;39;49m]\u001B[0m\u001B[39;49m A new release of pip is available: \u001B[0m\u001B[31;49m23.2.1\u001B[0m\u001B[39;49m -> \u001B[0m\u001B[32;49m24.3.1\u001B[0m\r\n",
      "\u001B[1m[\u001B[0m\u001B[34;49mnotice\u001B[0m\u001B[1;39;49m]\u001B[0m\u001B[39;49m To update, run: \u001B[0m\u001B[32;49mpip install --upgrade pip\u001B[0m\r\n",
      "--2024-11-26 17:37:42--  https://storage.yandexcloud.net/natasha-navec/packs/navec_hudlit_v1_12B_500K_300d_100q.tar\r\n",
      "Resolving storage.yandexcloud.net (storage.yandexcloud.net)... 2a02:6b8::1d9, 213.180.193.243\r\n",
      "Connecting to storage.yandexcloud.net (storage.yandexcloud.net)|2a02:6b8::1d9|:443... connected.\r\n",
      "HTTP request sent, awaiting response... 200 OK\r\n",
      "Length: 53012480 (51M) [application/x-tar]\r\n",
      "Saving to: ‘navec_hudlit_v1_12B_500K_300d_100q.tar’\r\n",
      "\r\n",
      "navec_hudlit_v1_12B 100%[===================>]  50.56M  5.04MB/s    in 9.2s    \r\n",
      "\r\n",
      "2024-11-26 17:37:51 (5.48 MB/s) - ‘navec_hudlit_v1_12B_500K_300d_100q.tar’ saved [53012480/53012480]\r\n",
      "\r\n"
     ]
    }
   ],
   "execution_count": 27
  },
  {
   "cell_type": "code",
   "metadata": {
    "id": "zWjkeaMUP91w",
    "ExecuteTime": {
     "end_time": "2024-11-26T14:37:53.843075Z",
     "start_time": "2024-11-26T14:37:53.546210Z"
    }
   },
   "source": [
    "from navec import Navec\n",
    "\n",
    "path = 'navec_hudlit_v1_12B_500K_300d_100q.tar'\n",
    "navec = Navec.load(path)"
   ],
   "outputs": [],
   "execution_count": 28
  },
  {
   "cell_type": "code",
   "metadata": {
    "colab": {
     "base_uri": "https://localhost:8080/"
    },
    "id": "mxGmwFLDQAa0",
    "outputId": "24e27e8f-4d2e-40a8-d0a0-8b9b5c937620",
    "ExecuteTime": {
     "end_time": "2024-11-26T14:37:55.890441Z",
     "start_time": "2024-11-26T14:37:55.882741Z"
    }
   },
   "source": [
    "navec.get('python')"
   ],
   "outputs": [
    {
     "data": {
      "text/plain": [
       "array([ 0.19214402, -0.1959362 ,  0.43695402, -0.33588752,  0.39676988,\n",
       "       -0.07734875,  0.04260164,  0.67186844, -0.04072431, -0.07451263,\n",
       "        0.49101624,  0.07942662,  0.20798121,  0.18426852, -0.30046153,\n",
       "       -0.15204567,  0.36486024, -0.85307485,  0.48137093,  0.427026  ,\n",
       "       -0.6845362 , -0.08942661, -0.3101123 , -0.45371357, -0.611568  ,\n",
       "       -0.26479366, -0.9259754 , -0.11309931, -0.48673463,  0.42229277,\n",
       "        0.20572862, -0.13167205, -0.8779028 ,  0.07185546,  0.02660668,\n",
       "       -0.0868782 ,  0.572537  ,  0.6779026 , -0.11222838,  0.14546263,\n",
       "       -0.03367202,  0.24061641,  0.08572771,  0.00990655,  0.25097123,\n",
       "        0.01056161, -0.51034373,  0.09052686,  0.43652472,  0.3318286 ,\n",
       "       -0.11107466, -0.14714225, -0.34816197, -0.3292252 ,  0.33444104,\n",
       "       -0.07015625,  0.00249229,  0.03096647, -0.39550957, -0.37711838,\n",
       "       -0.15093368, -0.3094792 ,  0.17217222,  0.21431988, -0.6753277 ,\n",
       "       -0.5604233 ,  0.46426848,  0.08588701,  0.44196838,  0.34076485,\n",
       "        0.47278842, -0.17648056,  0.364893  ,  0.87400675, -0.13333426,\n",
       "       -0.07734913,  0.04598786,  0.17115639, -0.94636345,  0.04244182,\n",
       "        0.3120107 , -0.09047384, -0.12793973, -0.46734104, -0.07247203,\n",
       "        0.11440089,  0.4598333 ,  0.22925864, -0.35547853, -0.47572187,\n",
       "       -0.6187484 , -0.3738915 , -0.39071292, -0.31044647,  0.13381995,\n",
       "       -0.69179034,  0.39101094, -0.7190998 , -0.22720368, -0.14512658,\n",
       "        0.02614984,  0.35367084,  0.01076753, -0.15128738, -0.11058794,\n",
       "        0.5272936 ,  0.51841813, -0.00457411, -0.48575118,  0.069534  ,\n",
       "        0.87777734, -0.28278175,  0.1079328 ,  0.32962042,  0.05991029,\n",
       "       -1.0095459 ,  0.05126866,  0.16012122, -0.38580406, -0.00395508,\n",
       "        0.18048242,  0.00881539,  0.10486792, -0.25157538,  0.2645282 ,\n",
       "       -0.27961373,  0.56401587, -0.411557  ,  0.7725796 ,  0.2029335 ,\n",
       "        0.04491143,  0.08876392, -0.5026645 ,  0.2143388 ,  0.58687353,\n",
       "       -0.02660203,  0.07945174, -0.17263195,  0.03653526,  0.08751146,\n",
       "       -0.4241872 , -0.14165992,  0.35655606,  0.14612669, -0.12171528,\n",
       "        0.23760544, -0.5062642 , -0.4687799 , -0.19080171, -0.23178473,\n",
       "        0.34035295,  0.5639264 , -0.07747968, -0.10516068,  0.71197295,\n",
       "       -0.11574712,  0.05021324,  0.36376   , -0.52629733, -0.24772808,\n",
       "        0.10586916, -0.06762519, -0.49855706, -0.21110693,  0.3828223 ,\n",
       "        0.1973943 ,  0.13949837,  0.29955202,  0.3913302 , -0.20491455,\n",
       "       -0.23621349, -0.15909854, -0.41777796, -0.5480532 , -0.14335346,\n",
       "       -0.21882434, -0.2810576 ,  0.6828006 , -0.06004116, -0.17835928,\n",
       "        0.20870648, -0.1425984 ,  0.22025472,  0.09335975,  0.32178396,\n",
       "        0.1565529 ,  0.05238179, -0.20776246,  0.01776274, -0.67160845,\n",
       "        0.5131802 ,  0.22806102,  0.47602814,  0.4680228 , -0.23854676,\n",
       "       -0.6044631 ,  0.11032516, -0.39815488, -0.52739006, -0.0177008 ,\n",
       "       -0.51984257, -0.32053494,  0.1731198 , -0.06458331,  0.24266705,\n",
       "       -0.12311702, -0.33418998,  0.45622852,  0.1234789 ,  0.45985374,\n",
       "        0.131521  ,  0.23142815,  0.28226322, -0.22509557,  0.36960214,\n",
       "        0.28468165, -0.42250642, -0.01599715,  0.5673743 , -0.57856166,\n",
       "        0.3156622 , -0.2921261 ,  0.39723814,  0.11334797,  0.1368448 ,\n",
       "       -0.5896137 , -0.24441122, -0.15437448,  0.1947864 , -0.10766716,\n",
       "       -0.6503314 ,  0.02427664, -0.37398094,  0.14635338, -0.12776528,\n",
       "       -0.06491923, -0.5269954 ,  0.35638356, -0.41152358, -0.5169465 ,\n",
       "       -0.07886428, -0.5929696 , -0.12368298,  0.13036904, -0.6255011 ,\n",
       "       -0.17719975, -0.20506662, -0.3787619 , -0.3035232 , -0.21546912,\n",
       "       -0.20266119, -0.01743477, -0.26832312, -0.48153314,  0.07751683,\n",
       "       -0.37809882,  0.4742351 ,  0.13234845, -0.6492298 ,  0.16966633,\n",
       "       -0.16703187, -0.692763  , -0.27051628, -0.47334304,  0.40146652,\n",
       "       -0.27012977, -0.23462594,  0.4039537 ,  0.2211036 , -0.61646485,\n",
       "        0.5360018 , -0.49718735, -0.12949607, -0.98984295,  0.07247506,\n",
       "        0.19875215,  0.75743926, -0.3522471 , -0.66547555, -0.21037056,\n",
       "        0.5828387 , -0.12879717, -0.04237877, -0.56843054, -0.498901  ,\n",
       "       -0.13728613,  0.38877505, -0.0950103 ,  0.7435377 ,  0.23809968,\n",
       "        0.11883985, -0.5440099 , -0.47758648,  0.35932985,  0.28576544,\n",
       "       -0.6788168 ,  0.03995679,  0.7263916 ,  0.1674516 , -1.0233043 ],\n",
       "      dtype=float32)"
      ]
     },
     "execution_count": 29,
     "metadata": {},
     "output_type": "execute_result"
    }
   ],
   "execution_count": 29
  },
  {
   "cell_type": "code",
   "metadata": {
    "id": "oB4_6OeQWTgW",
    "ExecuteTime": {
     "end_time": "2024-11-26T14:37:59.115926Z",
     "start_time": "2024-11-26T14:37:59.113326Z"
    }
   },
   "source": [
    "import numpy as np"
   ],
   "outputs": [],
   "execution_count": 30
  },
  {
   "cell_type": "code",
   "metadata": {
    "id": "nXm8qcYBSxhZ",
    "ExecuteTime": {
     "end_time": "2024-11-26T14:38:00.253009Z",
     "start_time": "2024-11-26T14:38:00.250482Z"
    }
   },
   "source": [
    "def cosine(u, v):\n",
    "  res = np.dot(u, v) / (np.linalg.norm(u) * np.linalg.norm(v))\n",
    "  return res"
   ],
   "outputs": [],
   "execution_count": 31
  },
  {
   "cell_type": "code",
   "metadata": {
    "colab": {
     "base_uri": "https://localhost:8080/"
    },
    "id": "BoHZPR4WS4k4",
    "outputId": "4311489a-c8ae-4042-f1db-64b6831acfdf",
    "ExecuteTime": {
     "end_time": "2024-11-26T14:38:08.540140Z",
     "start_time": "2024-11-26T14:38:08.537340Z"
    }
   },
   "source": [
    "print(cosine(navec['python'],navec['java']))"
   ],
   "outputs": [
    {
     "name": "stdout",
     "output_type": "stream",
     "text": [
      "0.63120574\n"
     ]
    }
   ],
   "execution_count": 33
  },
  {
   "cell_type": "code",
   "metadata": {
    "colab": {
     "base_uri": "https://localhost:8080/"
    },
    "id": "1K7sLnG5WYFL",
    "outputId": "6b8dd4be-0b97-484a-a82f-e21d68ec9f27",
    "ExecuteTime": {
     "end_time": "2024-11-26T14:38:08.611889Z",
     "start_time": "2024-11-26T14:38:08.609734Z"
    }
   },
   "source": [
    "print(cosine(navec['python'],navec['змея']))"
   ],
   "outputs": [
    {
     "name": "stdout",
     "output_type": "stream",
     "text": [
      "-0.008952811\n"
     ]
    }
   ],
   "execution_count": 34
  },
  {
   "cell_type": "code",
   "metadata": {
    "colab": {
     "base_uri": "https://localhost:8080/"
    },
    "id": "FFUJaS2BWi8n",
    "outputId": "f336b266-c8e0-4fbb-ff0a-34720967197b",
    "ExecuteTime": {
     "end_time": "2024-11-26T14:38:08.696445Z",
     "start_time": "2024-11-26T14:38:08.694105Z"
    }
   },
   "source": [
    "print(cosine(navec['питон'],navec['змея']))"
   ],
   "outputs": [
    {
     "name": "stdout",
     "output_type": "stream",
     "text": [
      "0.36701795\n"
     ]
    }
   ],
   "execution_count": 35
  },
  {
   "cell_type": "code",
   "metadata": {
    "colab": {
     "base_uri": "https://localhost:8080/"
    },
    "id": "86UWCcENWn4q",
    "outputId": "eb8ce081-4633-49cb-d52a-9a06751683cc",
    "ExecuteTime": {
     "end_time": "2024-11-26T14:38:08.750397Z",
     "start_time": "2024-11-26T14:38:08.748103Z"
    }
   },
   "source": [
    "print(cosine(navec['питон'],navec['java']))"
   ],
   "outputs": [
    {
     "name": "stdout",
     "output_type": "stream",
     "text": [
      "0.03047316\n"
     ]
    }
   ],
   "execution_count": 36
  },
  {
   "cell_type": "code",
   "metadata": {
    "colab": {
     "base_uri": "https://localhost:8080/"
    },
    "id": "Uy3y-shXWqjP",
    "outputId": "ce3a6709-0393-4f1e-ec91-e7fa5e40df67",
    "ExecuteTime": {
     "end_time": "2024-11-26T14:38:08.790940Z",
     "start_time": "2024-11-26T14:38:08.788927Z"
    }
   },
   "source": [
    "print(cosine(navec['индонезия'],navec['java']))"
   ],
   "outputs": [
    {
     "name": "stdout",
     "output_type": "stream",
     "text": [
      "0.16179799\n"
     ]
    }
   ],
   "execution_count": 37
  },
  {
   "cell_type": "code",
   "metadata": {
    "colab": {
     "base_uri": "https://localhost:8080/"
    },
    "id": "u8wbhq0jWtxT",
    "outputId": "c5e0473b-b4bd-4e83-9dfc-3920a8a5d87a",
    "ExecuteTime": {
     "end_time": "2024-11-26T14:38:08.807181Z",
     "start_time": "2024-11-26T14:38:08.805188Z"
    }
   },
   "source": [
    "print(cosine(navec['индонезия'],navec['ява']))"
   ],
   "outputs": [
    {
     "name": "stdout",
     "output_type": "stream",
     "text": [
      "0.51982415\n"
     ]
    }
   ],
   "execution_count": 38
  },
  {
   "cell_type": "code",
   "metadata": {
    "id": "_a8j7q-HXeBr",
    "ExecuteTime": {
     "end_time": "2024-11-26T14:38:11.582449Z",
     "start_time": "2024-11-26T14:38:08.812999Z"
    }
   },
   "source": [
    "from nltk.tokenize import WordPunctTokenizer\n",
    "\n",
    "tokenizer = WordPunctTokenizer()"
   ],
   "outputs": [],
   "execution_count": 39
  },
  {
   "cell_type": "code",
   "metadata": {
    "id": "VPnWXAFoXnWz",
    "ExecuteTime": {
     "end_time": "2024-11-26T14:38:11.600521Z",
     "start_time": "2024-11-26T14:38:11.588328Z"
    }
   },
   "source": [
    "dataset = dataset_temp.copy()"
   ],
   "outputs": [],
   "execution_count": 40
  },
  {
   "cell_type": "markdown",
   "metadata": {
    "id": "kn0Oi3wia7gf"
   },
   "source": [
    "Строим эмбеддинги для предложений по эмбеддингам для слов"
   ]
  },
  {
   "cell_type": "code",
   "metadata": {
    "id": "3IVMqGDhX6wr",
    "ExecuteTime": {
     "end_time": "2024-11-26T14:38:11.607482Z",
     "start_time": "2024-11-26T14:38:11.605830Z"
    }
   },
   "source": [
    "def embed(text):\n",
    "  res = []\n",
    "\n",
    "  tokens = tokenizer.tokenize(str(text).lower())\n",
    "\n",
    "  for token in tokens:\n",
    "    if token in navec:\n",
    "      res.append(navec[token])\n",
    "\n",
    "  if not res:\n",
    "    res.append(navec['<unk>']) # это из документации\n",
    "\n",
    "  return np.mean(res, axis=0)"
   ],
   "outputs": [],
   "execution_count": 41
  },
  {
   "cell_type": "code",
   "metadata": {
    "colab": {
     "base_uri": "https://localhost:8080/"
    },
    "id": "x8-LwgQPYB-w",
    "outputId": "f1260a84-82b4-4952-ab1c-49340d4b4f38",
    "ExecuteTime": {
     "end_time": "2024-11-26T14:38:11.625380Z",
     "start_time": "2024-11-26T14:38:11.612726Z"
    }
   },
   "source": [
    "embed(\"Тестовый текст - это просто текст для теста\")"
   ],
   "outputs": [
    {
     "data": {
      "text/plain": [
       "array([-0.09564245, -0.01535456,  0.12325782, -0.06663185, -0.20047495,\n",
       "        0.03183787,  0.26239553,  0.35224754,  0.2521219 , -0.07307456,\n",
       "       -0.307853  ,  0.01662676,  0.02816503,  0.06181916,  0.06616659,\n",
       "       -0.08646315, -0.01595033, -0.18428268,  0.03257051,  0.30827984,\n",
       "       -0.1424056 , -0.12214033, -0.06059988,  0.34464318,  0.06410901,\n",
       "       -0.12486495, -0.33976468,  0.38941613, -0.05564322, -0.08336477,\n",
       "       -0.00159295,  0.30793437,  0.5169112 ,  0.39479265, -0.09011184,\n",
       "        0.08616064, -0.04342553, -0.01709452,  0.00687668,  0.04990578,\n",
       "        0.09723997,  0.06334966,  0.0321274 , -0.07932533,  0.23986931,\n",
       "       -0.08293863, -0.00717402,  0.05017046,  0.05389752, -0.15716644,\n",
       "       -0.1395224 , -0.25135663, -0.22502461,  0.01293752,  0.05510895,\n",
       "        0.2168825 , -0.16007565, -0.01202961, -0.2204808 ,  0.16102086,\n",
       "        0.20584778, -0.39431804, -0.0983623 ,  0.00144196,  0.09941299,\n",
       "        0.1484852 ,  0.24532807,  0.3359027 ,  0.13392086,  0.05536381,\n",
       "       -0.03512681, -0.16829994,  0.18315567, -0.01481626,  0.08724291,\n",
       "        0.21493776, -0.03547473,  0.15321171, -0.02508703, -0.03412712,\n",
       "       -0.43365887, -0.01620351, -0.24639688, -0.23510063, -0.07378476,\n",
       "        0.1089892 , -0.11835538,  0.13368054,  0.10586061, -0.16802917,\n",
       "        0.09983126, -0.273052  , -0.02426104,  0.04976049, -0.17094453,\n",
       "        0.17284666, -0.27417225,  0.09757397,  0.07199389, -0.4998892 ,\n",
       "        0.05869174,  0.22435918, -0.15813246,  0.02806381, -0.01956407,\n",
       "        0.10566415, -0.268617  ,  0.10542089,  0.15303485, -0.10169082,\n",
       "        0.0657878 , -0.27369758, -0.2994658 ,  0.15443656, -0.17230098,\n",
       "        0.14238834,  0.02633971,  0.08950927,  0.13925831,  0.11988835,\n",
       "        0.49553296, -0.0133022 , -0.15627085,  0.37523422,  0.04065294,\n",
       "       -0.20668295, -0.28277203, -0.26205304,  0.13990931,  0.09159238,\n",
       "        0.19158837, -0.12550174, -0.12068283,  0.03091687, -0.20726988,\n",
       "        0.17140187,  0.16394813, -0.2780461 ,  0.16897587, -0.16339932,\n",
       "        0.18403104,  0.23273262, -0.10309495,  0.08290056, -0.28415647,\n",
       "       -0.34015104,  0.04116785,  0.07557608,  0.03192897,  0.2997382 ,\n",
       "       -0.01042033,  0.07548489, -0.26748604, -0.07857981,  0.08982118,\n",
       "       -0.09294449,  0.05528224,  0.06552945, -0.08160304,  0.10013378,\n",
       "       -0.15791735,  0.04304091, -0.09318658, -0.21547022,  0.19343522,\n",
       "       -0.01741695,  0.07376888,  0.11538548, -0.1950549 , -0.00234678,\n",
       "        0.17372702,  0.14335077, -0.21800816,  0.24925737,  0.1687428 ,\n",
       "       -0.04333812,  0.11425711,  0.07216501, -0.0610699 , -0.13998443,\n",
       "       -0.04243704, -0.01106464, -0.04541271,  0.0012585 ,  0.19369689,\n",
       "        0.04400733, -0.21400908, -0.3531554 , -0.02439884,  0.5959962 ,\n",
       "       -0.19045778, -0.006795  ,  0.06798027,  0.12537323,  0.06807672,\n",
       "        0.16474138,  0.1287923 , -0.04235288,  0.28406712,  0.2494634 ,\n",
       "        0.10762922,  0.05671942,  0.11234771,  0.19091533,  0.27363184,\n",
       "       -0.3126181 , -0.14499275,  0.0711835 , -0.07225253,  0.0497472 ,\n",
       "        0.11960135, -0.14635435,  0.03263824, -0.13603523, -0.0606147 ,\n",
       "       -0.08348248, -0.02685917,  0.11135159, -0.14273618, -0.04842813,\n",
       "        0.20362158,  0.2809108 ,  0.16150694,  0.01761334,  0.2237734 ,\n",
       "        0.18103863, -0.11703319, -0.20584191,  0.12943767, -0.05394514,\n",
       "       -0.02911442, -0.26655358, -0.143975  ,  0.10829767, -0.08867435,\n",
       "       -0.07189477, -0.04444656, -0.06349129,  0.01142601,  0.14774211,\n",
       "        0.14486833, -0.05929264, -0.10243361, -0.18106294, -0.10108133,\n",
       "       -0.17699419, -0.00485218,  0.14486013, -0.08135425, -0.22779116,\n",
       "        0.24985401,  0.12294678, -0.1108558 , -0.08643834,  0.09860309,\n",
       "       -0.27582124, -0.1455472 ,  0.12402944, -0.36868328,  0.1062217 ,\n",
       "        0.27230433, -0.243679  ,  0.17501864,  0.08039875,  0.05671323,\n",
       "        0.38154063,  0.5094281 ,  0.08828153, -0.23861706,  0.28661063,\n",
       "       -0.05681708,  0.19215353,  0.11897814, -0.10362034, -0.14057271,\n",
       "       -0.0463667 , -0.0018421 ,  0.30742988,  0.07848927,  0.02322104,\n",
       "       -0.0864263 , -0.1878772 , -0.16282947,  0.07780683,  0.31842062,\n",
       "        0.22670606, -0.17294036,  0.15771005, -0.03613908,  0.08052655,\n",
       "        0.07126494, -0.0584906 , -0.14204982,  0.13733819, -0.00593853,\n",
       "       -0.4164304 , -0.17614837, -0.23450013, -0.01524207,  0.31551504],\n",
       "      dtype=float32)"
      ]
     },
     "execution_count": 42,
     "metadata": {},
     "output_type": "execute_result"
    }
   ],
   "execution_count": 42
  },
  {
   "cell_type": "code",
   "metadata": {
    "id": "WEEcDGrIYSvr",
    "ExecuteTime": {
     "end_time": "2024-11-26T14:38:43.941241Z",
     "start_time": "2024-11-26T14:38:11.695317Z"
    }
   },
   "source": [
    "embedded_data = [embed(x) for x in dataset] # эмбеддинги строятся примерно минуту"
   ],
   "outputs": [],
   "execution_count": 43
  },
  {
   "metadata": {},
   "cell_type": "code",
   "outputs": [],
   "execution_count": null,
   "source": ""
  },
  {
   "metadata": {},
   "cell_type": "markdown",
   "source": "## Решение"
  },
  {
   "metadata": {
    "ExecuteTime": {
     "end_time": "2024-11-26T14:50:57.167453Z",
     "start_time": "2024-11-26T14:50:57.164354Z"
    }
   },
   "cell_type": "code",
   "source": [
    "def get_similar_queries(query, embedded_dataset, original_dataset, top_n=10):\n",
    "    \"\"\"\n",
    "    Ищет наиболее похожие запросы в датасете.\n",
    "    \n",
    "    Параметры:\n",
    "    - query: текстовый запрос (строка), для которого нужно найти похожие запросы.\n",
    "    - embedded_dataset: список эмбеддингов для запросов из датасета.\n",
    "    - original_dataset: список текстов запросов из датасета.\n",
    "    - top_n: количество наиболее похожих запросов, которые нужно вернуть.\n",
    "    \n",
    "    Возвращает:\n",
    "    - Список топ-N похожих запросов из оригинального датасета.\n",
    "    \"\"\"\n",
    "    # Построение эмбеддинга для запроса\n",
    "    query_embedding = embed(query)\n",
    "    \n",
    "    # Вычисление косинусного сходства запроса со всеми эмбеддингами датасета\n",
    "    similarities = [\n",
    "        cosine(query_embedding, emb) for emb in embedded_dataset\n",
    "    ]\n",
    "    \n",
    "    # Индексы топ-N наиболее похожих запросов\n",
    "    top_indices = np.argsort(similarities)[-top_n:][::-1]\n",
    "    \n",
    "    # Возврат текстов запросов из оригинального датасета\n",
    "    return [original_dataset[i] for i in top_indices]\n"
   ],
   "outputs": [],
   "execution_count": 46
  },
  {
   "metadata": {
    "ExecuteTime": {
     "end_time": "2024-11-26T14:51:00.404589Z",
     "start_time": "2024-11-26T14:51:00.400323Z"
    }
   },
   "cell_type": "code",
   "source": [
    "def evaluate_model_custom(user_queries, reference_queries, embedded_data, dataset):\n",
    "    \"\"\"\n",
    "    Тестирование модели на пользовательских запросах.\n",
    "    \n",
    "    Параметры:\n",
    "    - user_queries: список пользовательских запросов для тестирования.\n",
    "    - reference_queries: список списков эталонных запросов для каждого пользовательского запроса.\n",
    "    - embedded_data: эмбеддинги всего датасета.\n",
    "    - dataset: оригинальные данные (вопросы).\n",
    "    \n",
    "    Возвращает:\n",
    "    - Средний коэффициент семантической близости.\n",
    "    \"\"\"\n",
    "    scores = []\n",
    "    for i, query in enumerate(user_queries):\n",
    "        # Получение результатов модели для текущего запроса\n",
    "        model_results = get_similar_queries(query, embedded_data, dataset, top_n=5)\n",
    "        \n",
    "        # Эмбеддинги эталонных запросов\n",
    "        reference_embeddings = [embed(ref) for ref in reference_queries[i]]\n",
    "        # Эмбеддинги результатов модели\n",
    "        model_embeddings = [embed(res) for res in model_results]\n",
    "        \n",
    "        # Вычисление семантической близости\n",
    "        similarities = [\n",
    "            cosine(ref_emb, model_emb)\n",
    "            for ref_emb in reference_embeddings\n",
    "            for model_emb in model_embeddings\n",
    "        ]\n",
    "        avg_similarity = np.mean(similarities) if similarities else 0.0\n",
    "        scores.append(avg_similarity)\n",
    "        \n",
    "        # Вывод результатов для каждого запроса\n",
    "        print(f\"Запрос: {query}\")\n",
    "        print(f\"Модель предложила:\")\n",
    "        for j, result in enumerate(model_results, 1):\n",
    "            print(f\"  {j}. {result}\")\n",
    "        print(f\"Средняя семантическая близость: {avg_similarity:.4f}\")\n",
    "        print(\"-\" * 50)\n",
    "    \n",
    "    # Общий результат\n",
    "    overall_score = np.mean(scores)\n",
    "    print(f\"Средний коэффициент семантической близости по всем запросам: {overall_score:.4f}\")\n",
    "    return overall_score\n"
   ],
   "outputs": [],
   "execution_count": 47
  },
  {
   "metadata": {
    "ExecuteTime": {
     "end_time": "2024-11-26T14:51:46.012752Z",
     "start_time": "2024-11-26T14:51:28.468523Z"
    }
   },
   "cell_type": "code",
   "source": [
    "# Пример пользовательских запросов\n",
    "user_queries = [\n",
    "    \"Как начать программировать?\",\n",
    "    \"Лучшие книги по истории\",\n",
    "    \"Как приготовить борщ?\",\n",
    "    \"Что делать при простуде?\",\n",
    "    \"Где купить автомобиль?\",\n",
    "    \"Лучшие смартфоны 2024 года\",\n",
    "    \"Как улучшить свои навыки общения?\",\n",
    "    \"Какие фильмы посмотреть на выходных?\",\n",
    "    \"Как найти работу программистом?\",\n",
    "    \"Советы для путешествий\"\n",
    "]\n",
    "\n",
    "# Пример эталонных запросов\n",
    "reference_queries = [\n",
    "    [\"Как стать программистом?\", \"С чего начать изучение программирования?\", \"Как выучить Python?\"],\n",
    "    [\"Топ книг по истории\", \"Какие книги по истории стоит прочитать?\", \"Книги по всемирной истории\"],\n",
    "    [\"Как варить борщ?\", \"Рецепт борща\", \"Как приготовить украинский борщ?\"],\n",
    "    [\"Как быстро вылечить простуду?\", \"Что делать при первых признаках простуды?\", \"Как лечить простуду дома?\"],\n",
    "    [\"Где можно купить машину?\", \"Лучшие сайты для покупки авто\", \"Как выбрать автомобиль?\"],\n",
    "    [\"Рейтинг смартфонов 2024 года\", \"Лучшие телефоны в этом году\", \"Какие смартфоны популярны в 2024?\"],\n",
    "    [\"Как улучшить общение с людьми?\", \"Советы по общению\", \"Как стать лучше в разговоре?\"],\n",
    "    [\"Лучшие фильмы для выходных\", \"Что посмотреть в пятницу?\", \"Фильмы на Netflix для выходных\"],\n",
    "    [\"Как найти работу программистом без опыта?\", \"Как стать junior-разработчиком?\", \"Где искать вакансии программисту?\"],\n",
    "    [\"Советы для путешественников\", \"Что нужно знать перед поездкой?\", \"Как подготовиться к путешествию?\"]\n",
    "]\n",
    "\n",
    "# Вызов функции\n",
    "evaluate_model_custom(user_queries, reference_queries, embedded_data, dataset)\n"
   ],
   "outputs": [
    {
     "name": "stdout",
     "output_type": "stream",
     "text": [
      "Запрос: Как начать программировать?\n",
      "Модель предложила:\n",
      "  1. как начать программирование\n",
      "  2. как начать программирование\n",
      "  3. как начать биткойн\n",
      "  4. как начать некоммерческую\n",
      "  5. как я могу начать изучать информатику и программировать\n",
      "Средняя семантическая близость: 0.4958\n",
      "--------------------------------------------------\n",
      "Запрос: Лучшие книги по истории\n",
      "Модель предложила:\n",
      "  1. каковы лучшие книги по истории\n",
      "  2. каковы лучшие книги по истории\n",
      "  3. каковы лучшие книги по истории\n",
      "  4. каковы лучшие книги по истории любви\n",
      "  5. каковы лучшие книги по истории любви\n",
      "Средняя семантическая близость: 0.8010\n",
      "--------------------------------------------------\n",
      "Запрос: Как приготовить борщ?\n",
      "Модель предложила:\n",
      "  1. как приготовить стейк\n",
      "  2. как приготовить стейк\n",
      "  3. как правильно приготовить гамбургер\n",
      "  4. как приготовить гамбургеры\n",
      "  5. как я могу приготовить холодный суп\n",
      "Средняя семантическая близость: 0.5740\n",
      "--------------------------------------------------\n",
      "Запрос: Что делать при простуде?\n",
      "Модель предложила:\n",
      "  1. что нужно делать при гриппе?\n",
      "  2. что нужно делать при гриппе?\n",
      "  3. как 9 9 = 81 при 9 9 = 81\n",
      "  4. почему cse при nsit считается лучше, чем cse при dtu\n",
      "  5. почему cse при nsit считается лучше, чем cse при dtu\n",
      "Средняя семантическая близость: 0.5247\n",
      "--------------------------------------------------\n",
      "Запрос: Где купить автомобиль?\n",
      "Модель предложила:\n",
      "  1. сколько стоит купить автомобиль\n",
      "  2. где лучше всего купить подержанный автомобиль для дешевых\n",
      "  3. когда нужно купить новый автомобиль\n",
      "  4. когда нужно купить новый автомобиль\n",
      "  5. когда нужно купить новый автомобиль\n",
      "Средняя семантическая близость: 0.6959\n",
      "--------------------------------------------------\n",
      "Запрос: Лучшие смартфоны 2024 года\n",
      "Модель предложила:\n",
      "  1. какие лучшие смартфоны 2016 года\n",
      "  2. какие лучшие смартфоны 2016 года\n",
      "  3. какие лучшие смартфоны 2016 года\n",
      "  4. какие лучшие Android-смартфоны в 2016 году\n",
      "  5. какие лучшие гаджеты 2016 года\n",
      "Средняя семантическая близость: 0.6262\n",
      "--------------------------------------------------\n",
      "Запрос: Как улучшить свои навыки общения?\n",
      "Модель предложила:\n",
      "  1. как улучшить свои навыки общения\n",
      "  2. как улучшить свои навыки общения\n",
      "  3. как улучшить свои навыки общения\n",
      "  4. как улучшить свои навыки общения\n",
      "  5. как улучшить свои навыки общения\n",
      "Средняя семантическая близость: 0.5609\n",
      "--------------------------------------------------\n",
      "Запрос: Какие фильмы посмотреть на выходных?\n",
      "Модель предложила:\n",
      "  1. какие потрясающие болливудские фильмы стоит посмотреть\n",
      "  2. какие действительно хорошие фильмы, которые я могу посмотреть на hulu\n",
      "  3. какие фильмы похожи на завтрашний день\n",
      "  4. какие фильмы похожи на завтрашний день\n",
      "  5. какие фильмы похожи на фильм 1992 года: непрощенный\n",
      "Средняя семантическая близость: 0.6169\n",
      "--------------------------------------------------\n",
      "Запрос: Как найти работу программистом?\n",
      "Модель предложила:\n",
      "  1. как найти работу рекрутера\n",
      "  2. как мне найти работу\n",
      "  3. как мне найти работу\n",
      "  4. как мне найти работу\n",
      "  5. трудно найти работу\n",
      "Средняя семантическая близость: 0.4881\n",
      "--------------------------------------------------\n",
      "Запрос: Советы для путешествий\n",
      "Модель предложила:\n",
      "  1. какие советы для путешествий дешево\n",
      "  2. какие советы для путешествий дешево\n",
      "  3. какие советы для путешествий по Индии\n",
      "  4. какие советы для изучения для gre\n",
      "  5. какие хорошие блоги для путешествий для Германии\n",
      "Средняя семантическая близость: 0.4990\n",
      "--------------------------------------------------\n",
      "Средний коэффициент семантической близости по всем запросам: 0.5883\n"
     ]
    },
    {
     "data": {
      "text/plain": [
       "0.5882596"
      ]
     },
     "execution_count": 48,
     "metadata": {},
     "output_type": "execute_result"
    }
   ],
   "execution_count": 48
  }
 ]
}
